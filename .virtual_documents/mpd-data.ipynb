import pandas as pd
import numpy as np
import scipy.stats as stats 
import requests
import matplotlib.pyplot as plt


#load data
mpd = pd.read_csv("dc-crimes-search-results.csv")
mpd.head()


offense_counts = mpd['offense-text'].value_counts()


#convert the counts to percentages
offense_percentage = offense_counts / offense_counts.sum() * 100


# Plot
plt.figure(figsize=(10, 6))
bars = offense_percentage.plot(kind='barh', color='skyblue', edgecolor='black')

plt.title('Percentage by Crime Types', fontsize=14)
plt.xlabel('Percentage (%)', fontsize=12)
plt.ylabel('Crime Type', fontsize=12)
plt.xticks(rotation=90)  # Rotate x-axis labels for better readability
plt.tight_layout()
plt.gca().invert_yaxis()  # To display the highest percentage at the top
# Add percentage values to the bars
for index, value in enumerate(offense_percentage):
    plt.text(value + 0.5, index, f'{value:.2f}%', va='center', ha='left', fontsize=10, color='black')

# Save the plot
plt.savefig('crime_types_percentage.jpg', format='jpeg', dpi=300)

plt.show()



#SW = 1
#NW = 2, 3, 4
#NE = 5
#SE  = 6, 7

#mutate column that is "locality" based on if BLOCK contains se, sw, ne, nw
def assign_locality(address):
    address = address.lower()  # Make address lowercase to handle case-insensitivity
    
    # Check for each locality keyword and return the corresponding value
    if 'ne' in address:
        return 'NE'
    elif 'nw' in address:
        return 'NW'
    elif 'se' in address:
        return 'SE'
    elif 'sw' in address:
        return 'SW'
    else:
        return 'Unknown'  # In case no locality is found

# Step 2: Apply the function to the 'BLOCK' column to create a new 'locality' column
mpd['locality'] = mpd['BLOCK'].apply(assign_locality)

# Step 3: Save the updated DataFrame to CSV
mpd.to_csv('updated_file.csv', index=False)

# Check if the new column 'locality' is present
print(mpd.head())









#plot by locality
local_counts = mpd['locality'].value_counts()

#convert the counts to percentages
local_percentage = local_counts / local_counts.sum() * 100

# Plot
plt.figure(figsize=(10, 6))

# Plot the bar chart for local_percentage
bars = local_percentage.plot(kind='barh', color='skyblue', edgecolor='black')

# Customize the chart with titles and labels
plt.title('Percentage by Locality', fontsize=14)
plt.xlabel('Percentage (%)', fontsize=12)
plt.ylabel('Locality', fontsize=12)
plt.tight_layout()  # Adjust layout for better readability

# Add percentage values to the bars
for index, value in enumerate(local_percentage):
    plt.text(value + 0.5, index, f'{value:.2f}%', va='center', ha='left', fontsize=10, color='black')

# Save the plot as a JPEG file
plt.savefig('locality_percentage.jpg', format='jpeg', dpi=300)

# Show the plot
plt.show()



