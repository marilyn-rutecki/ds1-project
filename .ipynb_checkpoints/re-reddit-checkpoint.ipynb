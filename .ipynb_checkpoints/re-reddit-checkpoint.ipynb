{
 "cells": [
  {
   "cell_type": "code",
   "execution_count": 58,
   "id": "73a882c8-985f-45fc-96ff-54dd859d56d0",
   "metadata": {},
   "outputs": [],
   "source": [
    "import requests\n",
    "import os\n",
    "import pandas as pd\n",
    "import praw\n",
    "import csv\n",
    "import numpy as np\n",
    "from datetime import datetime, timedelta\n",
    "import time\n",
    "import re"
   ]
  },
  {
   "cell_type": "code",
   "execution_count": 60,
   "id": "b724d7e2-e5ab-44b5-bdbb-024093ad25f3",
   "metadata": {},
   "outputs": [],
   "source": [
    "# Define crime-related keywords\n",
    "crime_keywords = [\n",
    "    \"homicide\", \"murder\", \"killing\", \"manslaughter\", \"shooting\", \"shoot\", \"sex abuse\", \"rape\",\n",
    "    \"assault\", \"domestic violence\", \"gender violence\", \"assault with dangerous weapon\",\n",
    "    \"aggravated assault\", \"attempted\", \"battery\", \"robbery\", \"theft\", \"mugging\", \"beat up\",\n",
    "    \"stealing\", \"steal\", \"robbing\", \"burglary\", \"break in\", \"forced entry\", \"housebreaking\",\n",
    "    \"trespassing\", \"auto theft\", \"motor vehicle theft\", \"carjacking\", \"vehicle larceny\",\n",
    "    \"arson\", \"destruction of property\", \"set on fire\", \"sentenced\", \"charges\", \"charged\",\n",
    "    \"deadly\", \"fatal\", \"beating\", \"punching\", \"punched\", \"punches\", \"punch\", \"kicking\",\n",
    "    \"kicked\", \"death\", \"gunshot\", \"gun\", \"gunfire\", \"arrested\", \"ammo\", \"ammunition\",\n",
    "    \"shot\", \"abuse\", \"attack\", \"attacked\", \"kidnapped\", \"kidnap\", \"victim\", \"hate\", \"ransack\", \"stolen\",\n",
    "    \"robbed\", \"gunpoint\", \"firearms\", \"carjack\", \"violent\", \"guilty\", \"armed\", \"scam\"\n",
    "]"
   ]
  },
  {
   "cell_type": "code",
   "execution_count": 62,
   "id": "f2d52e6b-bfdd-47b3-8e5f-766a8288c45e",
   "metadata": {},
   "outputs": [],
   "source": [
    "# Function to check if a post contains any crime-related keywords\n",
    "def contains_crime_keywords_in_title(post_title, crime_keywords):\n",
    "    # Create a regular expression pattern that matches any of the crime keywords as whole words\n",
    "    pattern = r'\\b(?:' + '|'.join(map(re.escape, crime_keywords)) + r')\\b'\n",
    "    if re.search(pattern, post_title, re.IGNORECASE):\n",
    "        return True\n",
    "    return False\n",
    "\n",
    "# Initialize Reddit instance (make sure to provide valid credentials)\n",
    "reddit = praw.Reddit(\n",
    "    client_id= \"L9bDp7Cr1Uianzb7xtzeXw\",\n",
    "    client_secret= \"WCJSgyUcmO9hyu-ItBO1zAKiIX-sBQ\" , \n",
    "    user_agent= \"python:project-script:v1.0 (by u/Username10907)\" )"
   ]
  },
  {
   "cell_type": "code",
   "execution_count": 64,
   "id": "1382911c-3098-4aea-b241-acd2249e58c6",
   "metadata": {},
   "outputs": [],
   "source": [
    "\n",
    "\n",
    "# Set the subreddit to scrape\n",
    "my_subreddit = \"washingtondc\"\n",
    "submission_headers = ['author', 'created_utc', 'id', \n",
    "                      'is_original_content', 'is_self', \n",
    "                      'link_flair_text', 'locked', 'name', \n",
    "                      'num_comments', 'over_18', 'permalink', \n",
    "                      'score', 'selftext', 'spoiler', 'stickied', \n",
    "                      'subreddit', 'title', 'upvote_ratio', 'url']\n",
    "\n",
    "# Open CSV file to append the scraped data\n",
    "with open(\"reddit_test_submission_db.csv\", 'a', \n",
    "          encoding=\"utf-8\", newline='') as f_object:\n",
    "    newposts = reddit.subreddit(my_subreddit).new(limit=None)\n",
    "    for post in newposts:\n",
    "        # Check if the post title contains any crime-related keywords\n",
    "        if contains_crime_keywords_in_title(post.title, crime_keywords):\n",
    "            # Below are all the fields we'll request from PRAW for each post\n",
    "            data = {'author': post.author, 'created_utc': post.created_utc, 'id': post.id, \n",
    "                    'is_original_content': post.is_original_content, 'is_self': post.is_self, \n",
    "                    'link_flair_text': post.link_flair_text, 'locked': post.locked, \n",
    "                    'name': post.name, 'num_comments': post.num_comments, \n",
    "                    'over_18': post.over_18, 'permalink': post.permalink, \n",
    "                    'score': post.score, 'selftext': post.selftext, 'spoiler': post.spoiler, \n",
    "                    'stickied': post.stickied, 'subreddit': post.subreddit.display_name, \n",
    "                    'title': post.title, 'upvote_ratio': post.upvote_ratio, 'url': post.url}\n",
    "            \n",
    "            dictwriter_object = csv.DictWriter(f_object, fieldnames=submission_headers)\n",
    "            dictwriter_object.writerow(data)\n",
    "\n",
    "# Code below will delete duplicates on successive pulls\n",
    "post_db = pd.read_csv(\"reddit_test_submission_db.csv\", names=submission_headers, header=0)\n",
    "post_db.drop_duplicates(subset=\"permalink\", keep=\"last\", inplace=True)\n",
    "post_db.to_csv(\"reddit_test_submission_db.csv\", index=False, chunksize=1000)\n"
   ]
  }
 ],
 "metadata": {
  "kernelspec": {
   "display_name": "Python 3 (ipykernel)",
   "language": "python",
   "name": "python3"
  },
  "language_info": {
   "codemirror_mode": {
    "name": "ipython",
    "version": 3
   },
   "file_extension": ".py",
   "mimetype": "text/x-python",
   "name": "python",
   "nbconvert_exporter": "python",
   "pygments_lexer": "ipython3",
   "version": "3.12.4"
  }
 },
 "nbformat": 4,
 "nbformat_minor": 5
}
